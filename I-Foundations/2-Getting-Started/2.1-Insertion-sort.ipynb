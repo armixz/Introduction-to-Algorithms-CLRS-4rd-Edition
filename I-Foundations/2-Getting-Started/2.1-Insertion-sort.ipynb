{
 "cells": [
  {
   "cell_type": "markdown",
   "metadata": {},
   "source": [
    "```\n",
    "INSERTION-SORT(A, n)\n",
    "1 for i = 2 to n\n",
    "2   key = A[i]\n",
    "3   // Insert A[i] into the sorted subarray A[1:i - 1].\n",
    "4   j = i - 1\n",
    "5   while j > 0 and A[j] > key\n",
    "6     A[j + 1] = A[j]\n",
    "7     j = j - 1\n",
    "8   A[j + 1] = key\n",
    "```"
   ]
  },
  {
   "cell_type": "code",
   "execution_count": null,
   "metadata": {},
   "outputs": [],
   "source": []
  }
 ],
 "metadata": {
  "language_info": {
   "name": "python"
  }
 },
 "nbformat": 4,
 "nbformat_minor": 2
}
