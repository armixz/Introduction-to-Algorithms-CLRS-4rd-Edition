{
 "cells": [
  {
   "cell_type": "markdown",
   "metadata": {},
   "source": [
    "```\n",
    "INSERTION-SORT(A, n)\n",
    "1 for i = 2 to n\n",
    "2   key = A[i]\n",
    "3   // Insert A[i] into the sorted subarray A[1:i - 1].\n",
    "4   j = i - 1\n",
    "5   while j > 0 and A[j] > key\n",
    "6     A[j + 1] = A[j]\n",
    "7     j = j - 1\n",
    "8   A[j + 1] = key\n",
    "```"
   ]
  },
  {
   "cell_type": "markdown",
   "metadata": {},
   "source": [
    " ![2-1](https://raw.githubusercontent.com/armixz/Introduction-to-Algorithms-CLRS-4rd-Edition/main/data/images/2-1.png)"
   ]
  },
  {
   "cell_type": "code",
   "execution_count": 45,
   "metadata": {},
   "outputs": [],
   "source": [
    "def INSERTION_SORT(A, n):\n",
    "    for i in range(1, n):\n",
    "        print(\"\\n* ENTER for loop\")\n",
    "        print(\"A =\", A)\n",
    "        print(\"i =\", i)\n",
    "\n",
    "        key = A[i]\n",
    "        print(\"key = A[i] =\", key)\n",
    "        \n",
    "        j = i - 1\n",
    "        print(\"j = i - 1 =\", j)\n",
    "\n",
    "        while j >= 0 and A[j] > key:\n",
    "            print(\"* ENTER while loop\")\n",
    "            A[j + 1] = A[j]\n",
    "            print (\"A[j + 1] = A[j] =\", A[j])\n",
    "        \n",
    "            j = j - 1\n",
    "            print(\"j = j - 1 =\", j)\n",
    "\n",
    "        print(\"* EXIT while loop ; j >= 0 and A[j] > key\")\n",
    "        A[j + 1] = key\n",
    "        print(\"A[j + 1] =\", A[j + 1])\n",
    "\n",
    "    return A"
   ]
  },
  {
   "cell_type": "code",
   "execution_count": 46,
   "metadata": {},
   "outputs": [
    {
     "name": "stdout",
     "output_type": "stream",
     "text": [
      "\n",
      "* ENTER for loop\n",
      "A = [5, 2, 4, 6, 1, 3]\n",
      "i = 1\n",
      "key = A[i] = 2\n",
      "j = i - 1 = 0\n",
      "* ENTER while loop\n",
      "A[j + 1] = A[j] = 5\n",
      "j = j - 1 = -1\n",
      "* EXIT while loop ; j >= 0 and A[j] > key\n",
      "A[j + 1] = 2\n",
      "\n",
      "* ENTER for loop\n",
      "A = [2, 5, 4, 6, 1, 3]\n",
      "i = 2\n",
      "key = A[i] = 4\n",
      "j = i - 1 = 1\n",
      "* ENTER while loop\n",
      "A[j + 1] = A[j] = 5\n",
      "j = j - 1 = 0\n",
      "* EXIT while loop ; j >= 0 and A[j] > key\n",
      "A[j + 1] = 4\n",
      "\n",
      "* ENTER for loop\n",
      "A = [2, 4, 5, 6, 1, 3]\n",
      "i = 3\n",
      "key = A[i] = 6\n",
      "j = i - 1 = 2\n",
      "* EXIT while loop ; j >= 0 and A[j] > key\n",
      "A[j + 1] = 6\n",
      "\n",
      "* ENTER for loop\n",
      "A = [2, 4, 5, 6, 1, 3]\n",
      "i = 4\n",
      "key = A[i] = 1\n",
      "j = i - 1 = 3\n",
      "* ENTER while loop\n",
      "A[j + 1] = A[j] = 6\n",
      "j = j - 1 = 2\n",
      "* ENTER while loop\n",
      "A[j + 1] = A[j] = 5\n",
      "j = j - 1 = 1\n",
      "* ENTER while loop\n",
      "A[j + 1] = A[j] = 4\n",
      "j = j - 1 = 0\n",
      "* ENTER while loop\n",
      "A[j + 1] = A[j] = 2\n",
      "j = j - 1 = -1\n",
      "* EXIT while loop ; j >= 0 and A[j] > key\n",
      "A[j + 1] = 1\n",
      "\n",
      "* ENTER for loop\n",
      "A = [1, 2, 4, 5, 6, 3]\n",
      "i = 5\n",
      "key = A[i] = 3\n",
      "j = i - 1 = 4\n",
      "* ENTER while loop\n",
      "A[j + 1] = A[j] = 6\n",
      "j = j - 1 = 3\n",
      "* ENTER while loop\n",
      "A[j + 1] = A[j] = 5\n",
      "j = j - 1 = 2\n",
      "* ENTER while loop\n",
      "A[j + 1] = A[j] = 4\n",
      "j = j - 1 = 1\n",
      "* EXIT while loop ; j >= 0 and A[j] > key\n",
      "A[j + 1] = 3\n",
      "[1, 2, 3, 4, 5, 6]\n"
     ]
    }
   ],
   "source": [
    "A = [5,2,4,6,1,3]\n",
    "n = 6\n",
    "\n",
    "sorted_array = INSERTION_SORT(A, n)\n",
    "print(sorted_array)"
   ]
  }
 ],
 "metadata": {
  "kernelspec": {
   "display_name": "Python 3",
   "language": "python",
   "name": "python3"
  },
  "language_info": {
   "codemirror_mode": {
    "name": "ipython",
    "version": 3
   },
   "file_extension": ".py",
   "mimetype": "text/x-python",
   "name": "python",
   "nbconvert_exporter": "python",
   "pygments_lexer": "ipython3",
   "version": "3.10.11"
  }
 },
 "nbformat": 4,
 "nbformat_minor": 2
}
