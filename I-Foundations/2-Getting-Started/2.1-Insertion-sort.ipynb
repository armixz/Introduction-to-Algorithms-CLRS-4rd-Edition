{
 "cells": [
  {
   "cell_type": "markdown",
   "metadata": {},
   "source": [
    "```\n",
    "INSERTION-SORT(A, n)\n",
    "1 for i = 2 to n\n",
    "2   key = A[i]\n",
    "3   // Insert A[i] into the sorted subarray A[1:i - 1].\n",
    "4   j = i - 1\n",
    "5   while j > 0 and A[j] > key\n",
    "6     A[j + 1] = A[j]\n",
    "7     j = j - 1\n",
    "8   A[j + 1] = key\n",
    "```"
   ]
  },
  {
   "cell_type": "markdown",
   "metadata": {},
   "source": [
    " ![1-1](https://raw.githubusercontent.com/armixz/Introduction-to-Algorithms-CLRS-4rd-Edition/main/data/images/1-1.png)"
   ]
  },
  {
   "cell_type": "code",
   "execution_count": 17,
   "metadata": {},
   "outputs": [],
   "source": [
    "def INSERTION_SORT(A, n):\n",
    "    for i in range(1, n):\n",
    "        print(\"\\nA = \", A)\n",
    "        \n",
    "        key = A[i]\n",
    "        print(\"key = \", key)\n",
    "        \n",
    "        j = i - 1\n",
    "        print(\"j = \", j)\n",
    "\n",
    "        while j >= 0 and A[j] > key:\n",
    "            A[j + 1] = A[j]\n",
    "            print (\"A[j + 1] = A[j] = \", A[j])\n",
    "        \n",
    "            j = j - 1\n",
    "            print(\"j = \", j)\n",
    "\n",
    "        A[j + 1] = key\n",
    "        print(\"A[j + 1] = \", A[j + 1])\n",
    "\n",
    "    return A"
   ]
  },
  {
   "cell_type": "code",
   "execution_count": 18,
   "metadata": {},
   "outputs": [
    {
     "name": "stdout",
     "output_type": "stream",
     "text": [
      "\n",
      "A =  [5, 2, 4, 6, 1, 3]\n",
      "key =  2\n",
      "j =  0\n",
      "A[j + 1] = A[j] =  5\n",
      "j =  -1\n",
      "A[j + 1] =  2\n",
      "\n",
      "A =  [2, 5, 4, 6, 1, 3]\n",
      "key =  4\n",
      "j =  1\n",
      "A[j + 1] = A[j] =  5\n",
      "j =  0\n",
      "A[j + 1] =  4\n",
      "\n",
      "A =  [2, 4, 5, 6, 1, 3]\n",
      "key =  6\n",
      "j =  2\n",
      "A[j + 1] =  6\n",
      "\n",
      "A =  [2, 4, 5, 6, 1, 3]\n",
      "key =  1\n",
      "j =  3\n",
      "A[j + 1] = A[j] =  6\n",
      "j =  2\n",
      "A[j + 1] = A[j] =  5\n",
      "j =  1\n",
      "A[j + 1] = A[j] =  4\n",
      "j =  0\n",
      "A[j + 1] = A[j] =  2\n",
      "j =  -1\n",
      "A[j + 1] =  1\n",
      "\n",
      "A =  [1, 2, 4, 5, 6, 3]\n",
      "key =  3\n",
      "j =  4\n",
      "A[j + 1] = A[j] =  6\n",
      "j =  3\n",
      "A[j + 1] = A[j] =  5\n",
      "j =  2\n",
      "A[j + 1] = A[j] =  4\n",
      "j =  1\n",
      "A[j + 1] =  3\n",
      "[1, 2, 3, 4, 5, 6]\n"
     ]
    }
   ],
   "source": [
    "A = [5,2,4,6,1,3]\n",
    "n = 6\n",
    "\n",
    "sorted_array = INSERTION_SORT(A, n)\n",
    "print(sorted_array)"
   ]
  }
 ],
 "metadata": {
  "kernelspec": {
   "display_name": "Python 3",
   "language": "python",
   "name": "python3"
  },
  "language_info": {
   "codemirror_mode": {
    "name": "ipython",
    "version": 3
   },
   "file_extension": ".py",
   "mimetype": "text/x-python",
   "name": "python",
   "nbconvert_exporter": "python",
   "pygments_lexer": "ipython3",
   "version": "3.10.11"
  }
 },
 "nbformat": 4,
 "nbformat_minor": 2
}
