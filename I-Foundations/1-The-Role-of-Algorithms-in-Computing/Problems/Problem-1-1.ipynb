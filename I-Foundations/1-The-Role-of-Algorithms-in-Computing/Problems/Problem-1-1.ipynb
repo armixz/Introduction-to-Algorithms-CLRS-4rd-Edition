{
 "cells": [
  {
   "cell_type": "markdown",
   "metadata": {},
   "source": [
    "<b>Problem 1-1 Comparison of running times</b> <br>\n",
    "For each function <i>f(n)</i> and time <i>t</i> in the following table, determine the largest size n of a problem that can be solved in time <i>t</i>, assuming that the algorithm to solve the problem takes <i>f(n)</i> microseconds. \n",
    "<hr>"
   ]
  },
  {
   "cell_type": "markdown",
   "metadata": {},
   "source": [
    " ![1-1](https://raw.githubusercontent.com/armixz/Introduction-to-Algorithms-CLRS-4rd-Edition/main/data/images/1-1.png)"
   ]
  }
 ],
 "metadata": {
  "language_info": {
   "name": "python"
  }
 },
 "nbformat": 4,
 "nbformat_minor": 2
}
