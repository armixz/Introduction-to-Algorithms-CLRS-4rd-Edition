{
 "cells": [
  {
   "cell_type": "markdown",
   "metadata": {},
   "source": [
    "<b>Exercise 1.2-3</b> <br>\n",
    "What is the smallest value of n such that an algorithm whose running time is <b>100n^2</b> runs faster than an algorithm whose running time is <b>2^n</b> on the same machine?\n",
    "<hr>"
   ]
  },
  {
   "cell_type": "markdown",
   "metadata": {},
   "source": [
    "We want that 100n^2 < 2^n <br>\n",
    "<br>\n",
    "if n = 14 -> 19600 > 2 (True) <br>\n",
    "if n = 15 -> 22500 < 2 (False) <br>\n",
    "-> the answer is n = 15."
   ]
  }
 ],
 "metadata": {
  "language_info": {
   "name": "python"
  }
 },
 "nbformat": 4,
 "nbformat_minor": 2
}
