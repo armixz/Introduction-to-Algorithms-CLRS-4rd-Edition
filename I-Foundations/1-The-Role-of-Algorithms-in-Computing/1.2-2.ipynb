{
 "cells": [
  {
   "cell_type": "markdown",
   "metadata": {},
   "source": [
    "1.2-2\n",
    "Suppose that for inputs of size n on a particular computer, insertion sort runs in 8n2\n",
    "steps and merge sort runs in 64 n lg n steps. For which values of n does insertion\n",
    "sort beat merge sort?\n"
   ]
  }
 ],
 "metadata": {
  "language_info": {
   "name": "python"
  }
 },
 "nbformat": 4,
 "nbformat_minor": 2
}
