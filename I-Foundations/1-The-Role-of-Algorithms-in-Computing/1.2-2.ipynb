{
 "cells": [
  {
   "cell_type": "markdown",
   "metadata": {},
   "source": [
    "1.2-2 <br>\n",
    "Suppose that for inputs of size n on a particular computer, insertion sort runs in 8n2 steps and merge sort runs in 64 n lg n steps. <br> \n",
    "For which values of n does insertion sort beat merge sort?\n"
   ]
  },
  {
   "cell_type": "markdown",
   "metadata": {},
   "source": [
    "This happens when 8n^2 < 64 n log2(n) <br>\n",
    "\n",
    "-> 8n < 64 log2(n) <br>\n",
    "-> n < 8 log2(n) <br>\n",
    "<br>\n",
    "or when n ≤ 43. <br>\n",
    " \n",
    " \n",
    " ![1.2-2](https://raw.githubusercontent.com/armixz/Introduction-to-Algorithms-CLRS-4rd-Edition/main/data/images/1.2-2.png?token=GHSAT0AAAAAACVHKAI5JOB5A6X6CPAU7NUUZVGTQXQ)"
   ]
  }
 ],
 "metadata": {
  "language_info": {
   "name": "python"
  }
 },
 "nbformat": 4,
 "nbformat_minor": 2
}
